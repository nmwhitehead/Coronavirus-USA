{
 "cells": [
  {
   "cell_type": "code",
   "execution_count": 1,
   "metadata": {},
   "outputs": [],
   "source": [
    "# Copying the First few lines from the other Graph Section"
   ]
  },
  {
   "cell_type": "code",
   "execution_count": 2,
   "metadata": {},
   "outputs": [],
   "source": [
    "import pandas as pd\n",
    "import numpy as np\n",
    "import matplotlib.pyplot as plt\n",
    "import seaborn as sns\n",
    "import datetime as dt"
   ]
  },
  {
   "cell_type": "code",
   "execution_count": 3,
   "metadata": {},
   "outputs": [],
   "source": [
    "# Link to Data Used = https://github.com/nytimes/covid-19-data"
   ]
  },
  {
   "cell_type": "code",
   "execution_count": 4,
   "metadata": {},
   "outputs": [],
   "source": [
    "# Let's read in the US Data\n",
    "total_us_data = pd.read_csv('NYT-US-Data/us-states-2020-04-23.csv')"
   ]
  },
  {
   "cell_type": "code",
   "execution_count": 5,
   "metadata": {},
   "outputs": [
    {
     "data": {
      "text/html": [
       "<div>\n",
       "<style scoped>\n",
       "    .dataframe tbody tr th:only-of-type {\n",
       "        vertical-align: middle;\n",
       "    }\n",
       "\n",
       "    .dataframe tbody tr th {\n",
       "        vertical-align: top;\n",
       "    }\n",
       "\n",
       "    .dataframe thead th {\n",
       "        text-align: right;\n",
       "    }\n",
       "</style>\n",
       "<table border=\"1\" class=\"dataframe\">\n",
       "  <thead>\n",
       "    <tr style=\"text-align: right;\">\n",
       "      <th></th>\n",
       "      <th>date</th>\n",
       "      <th>state</th>\n",
       "      <th>fips</th>\n",
       "      <th>cases</th>\n",
       "      <th>deaths</th>\n",
       "    </tr>\n",
       "  </thead>\n",
       "  <tbody>\n",
       "    <tr>\n",
       "      <td>0</td>\n",
       "      <td>2020-01-21</td>\n",
       "      <td>Washington</td>\n",
       "      <td>53</td>\n",
       "      <td>1</td>\n",
       "      <td>0</td>\n",
       "    </tr>\n",
       "    <tr>\n",
       "      <td>1</td>\n",
       "      <td>2020-01-22</td>\n",
       "      <td>Washington</td>\n",
       "      <td>53</td>\n",
       "      <td>1</td>\n",
       "      <td>0</td>\n",
       "    </tr>\n",
       "    <tr>\n",
       "      <td>2</td>\n",
       "      <td>2020-01-23</td>\n",
       "      <td>Washington</td>\n",
       "      <td>53</td>\n",
       "      <td>1</td>\n",
       "      <td>0</td>\n",
       "    </tr>\n",
       "    <tr>\n",
       "      <td>3</td>\n",
       "      <td>2020-01-24</td>\n",
       "      <td>Illinois</td>\n",
       "      <td>17</td>\n",
       "      <td>1</td>\n",
       "      <td>0</td>\n",
       "    </tr>\n",
       "    <tr>\n",
       "      <td>4</td>\n",
       "      <td>2020-01-24</td>\n",
       "      <td>Washington</td>\n",
       "      <td>53</td>\n",
       "      <td>1</td>\n",
       "      <td>0</td>\n",
       "    </tr>\n",
       "  </tbody>\n",
       "</table>\n",
       "</div>"
      ],
      "text/plain": [
       "         date       state  fips  cases  deaths\n",
       "0  2020-01-21  Washington    53      1       0\n",
       "1  2020-01-22  Washington    53      1       0\n",
       "2  2020-01-23  Washington    53      1       0\n",
       "3  2020-01-24    Illinois    17      1       0\n",
       "4  2020-01-24  Washington    53      1       0"
      ]
     },
     "execution_count": 5,
     "metadata": {},
     "output_type": "execute_result"
    }
   ],
   "source": [
    "# let's give the data a look\n",
    "total_us_data.head()"
   ]
  },
  {
   "cell_type": "code",
   "execution_count": 6,
   "metadata": {},
   "outputs": [
    {
     "data": {
      "text/plain": [
       "date      0\n",
       "state     0\n",
       "fips      0\n",
       "cases     0\n",
       "deaths    0\n",
       "dtype: int64"
      ]
     },
     "execution_count": 6,
     "metadata": {},
     "output_type": "execute_result"
    }
   ],
   "source": [
    "# Let's check for nulls\n",
    "total_us_data.isnull().sum()"
   ]
  },
  {
   "cell_type": "code",
   "execution_count": 7,
   "metadata": {},
   "outputs": [
    {
     "data": {
      "text/plain": [
       "array(['Washington', 'Illinois', 'California', 'Arizona', 'Massachusetts',\n",
       "       'Wisconsin', 'Texas', 'Nebraska', 'Utah', 'Oregon', 'Florida',\n",
       "       'New York', 'Rhode Island', 'Georgia', 'New Hampshire',\n",
       "       'North Carolina', 'New Jersey', 'Colorado', 'Maryland', 'Nevada',\n",
       "       'Tennessee', 'Hawaii', 'Indiana', 'Kentucky', 'Minnesota',\n",
       "       'Oklahoma', 'Pennsylvania', 'South Carolina',\n",
       "       'District of Columbia', 'Kansas', 'Missouri', 'Vermont',\n",
       "       'Virginia', 'Connecticut', 'Iowa', 'Louisiana', 'Ohio', 'Michigan',\n",
       "       'South Dakota', 'Arkansas', 'Delaware', 'Mississippi',\n",
       "       'New Mexico', 'North Dakota', 'Wyoming', 'Alaska', 'Maine',\n",
       "       'Alabama', 'Idaho', 'Montana', 'Puerto Rico', 'Virgin Islands',\n",
       "       'Guam', 'West Virginia', 'Northern Mariana Islands',\n",
       "       'American Samoa'], dtype=object)"
      ]
     },
     "execution_count": 7,
     "metadata": {},
     "output_type": "execute_result"
    }
   ],
   "source": [
    "# Let's check on the different states\n",
    "total_us_data.state.unique()"
   ]
  },
  {
   "cell_type": "code",
   "execution_count": null,
   "metadata": {},
   "outputs": [],
   "source": []
  },
  {
   "cell_type": "markdown",
   "metadata": {},
   "source": [
    "### Let's Check on and Add Some Data"
   ]
  },
  {
   "cell_type": "code",
   "execution_count": null,
   "metadata": {},
   "outputs": [],
   "source": []
  },
  {
   "cell_type": "code",
   "execution_count": 8,
   "metadata": {
    "scrolled": true
   },
   "outputs": [
    {
     "data": {
      "text/plain": [
       "date      object\n",
       "state     object\n",
       "fips       int64\n",
       "cases      int64\n",
       "deaths     int64\n",
       "dtype: object"
      ]
     },
     "execution_count": 8,
     "metadata": {},
     "output_type": "execute_result"
    }
   ],
   "source": [
    "# Date isn't DateTime Yet\n",
    "total_us_data.dtypes"
   ]
  },
  {
   "cell_type": "code",
   "execution_count": 9,
   "metadata": {},
   "outputs": [],
   "source": [
    "# Fixed it\n",
    "total_us_data['date'] = pd.to_datetime(total_us_data['date'])"
   ]
  },
  {
   "cell_type": "code",
   "execution_count": null,
   "metadata": {},
   "outputs": [],
   "source": []
  },
  {
   "cell_type": "code",
   "execution_count": 10,
   "metadata": {},
   "outputs": [],
   "source": [
    "# Took me a few days, but I figured out how to do pct_change with groupby\n",
    "# This will show the percent change in cases by day\n",
    "total_us_data['percent_change'] = total_us_data.groupby('state').cases.pct_change()\n",
    "total_us_data['percent_change'].fillna(0, inplace=True)"
   ]
  },
  {
   "cell_type": "code",
   "execution_count": 11,
   "metadata": {},
   "outputs": [],
   "source": [
    "# Let's add a difference column\n",
    "total_us_data['change_in_cases'] = total_us_data.groupby('state')['cases'].diff()"
   ]
  },
  {
   "cell_type": "code",
   "execution_count": 12,
   "metadata": {},
   "outputs": [
    {
     "data": {
      "text/html": [
       "<div>\n",
       "<style scoped>\n",
       "    .dataframe tbody tr th:only-of-type {\n",
       "        vertical-align: middle;\n",
       "    }\n",
       "\n",
       "    .dataframe tbody tr th {\n",
       "        vertical-align: top;\n",
       "    }\n",
       "\n",
       "    .dataframe thead th {\n",
       "        text-align: right;\n",
       "    }\n",
       "</style>\n",
       "<table border=\"1\" class=\"dataframe\">\n",
       "  <thead>\n",
       "    <tr style=\"text-align: right;\">\n",
       "      <th></th>\n",
       "      <th>date</th>\n",
       "      <th>state</th>\n",
       "      <th>fips</th>\n",
       "      <th>cases</th>\n",
       "      <th>deaths</th>\n",
       "      <th>percent_change</th>\n",
       "      <th>change_in_cases</th>\n",
       "    </tr>\n",
       "  </thead>\n",
       "  <tbody>\n",
       "    <tr>\n",
       "      <td>2601</td>\n",
       "      <td>2020-04-18</td>\n",
       "      <td>Utah</td>\n",
       "      <td>49</td>\n",
       "      <td>2942</td>\n",
       "      <td>25</td>\n",
       "      <td>0.045859</td>\n",
       "      <td>129.0</td>\n",
       "    </tr>\n",
       "    <tr>\n",
       "      <td>2657</td>\n",
       "      <td>2020-04-19</td>\n",
       "      <td>Utah</td>\n",
       "      <td>49</td>\n",
       "      <td>3071</td>\n",
       "      <td>27</td>\n",
       "      <td>0.043848</td>\n",
       "      <td>129.0</td>\n",
       "    </tr>\n",
       "    <tr>\n",
       "      <td>2713</td>\n",
       "      <td>2020-04-20</td>\n",
       "      <td>Utah</td>\n",
       "      <td>49</td>\n",
       "      <td>3213</td>\n",
       "      <td>28</td>\n",
       "      <td>0.046239</td>\n",
       "      <td>142.0</td>\n",
       "    </tr>\n",
       "    <tr>\n",
       "      <td>2769</td>\n",
       "      <td>2020-04-21</td>\n",
       "      <td>Utah</td>\n",
       "      <td>49</td>\n",
       "      <td>3301</td>\n",
       "      <td>32</td>\n",
       "      <td>0.027389</td>\n",
       "      <td>88.0</td>\n",
       "    </tr>\n",
       "    <tr>\n",
       "      <td>2825</td>\n",
       "      <td>2020-04-22</td>\n",
       "      <td>Utah</td>\n",
       "      <td>49</td>\n",
       "      <td>3451</td>\n",
       "      <td>34</td>\n",
       "      <td>0.045441</td>\n",
       "      <td>150.0</td>\n",
       "    </tr>\n",
       "  </tbody>\n",
       "</table>\n",
       "</div>"
      ],
      "text/plain": [
       "           date state  fips  cases  deaths  percent_change  change_in_cases\n",
       "2601 2020-04-18  Utah    49   2942      25        0.045859            129.0\n",
       "2657 2020-04-19  Utah    49   3071      27        0.043848            129.0\n",
       "2713 2020-04-20  Utah    49   3213      28        0.046239            142.0\n",
       "2769 2020-04-21  Utah    49   3301      32        0.027389             88.0\n",
       "2825 2020-04-22  Utah    49   3451      34        0.045441            150.0"
      ]
     },
     "execution_count": 12,
     "metadata": {},
     "output_type": "execute_result"
    }
   ],
   "source": [
    "total_us_data[total_us_data['state'] == 'Utah'].tail()"
   ]
  },
  {
   "cell_type": "code",
   "execution_count": 13,
   "metadata": {},
   "outputs": [
    {
     "data": {
      "text/html": [
       "<div>\n",
       "<style scoped>\n",
       "    .dataframe tbody tr th:only-of-type {\n",
       "        vertical-align: middle;\n",
       "    }\n",
       "\n",
       "    .dataframe tbody tr th {\n",
       "        vertical-align: top;\n",
       "    }\n",
       "\n",
       "    .dataframe thead th {\n",
       "        text-align: right;\n",
       "    }\n",
       "</style>\n",
       "<table border=\"1\" class=\"dataframe\">\n",
       "  <thead>\n",
       "    <tr style=\"text-align: right;\">\n",
       "      <th></th>\n",
       "      <th>date</th>\n",
       "      <th>state</th>\n",
       "      <th>fips</th>\n",
       "      <th>cases</th>\n",
       "      <th>deaths</th>\n",
       "      <th>percent_change</th>\n",
       "      <th>change_in_cases</th>\n",
       "    </tr>\n",
       "  </thead>\n",
       "  <tbody>\n",
       "    <tr>\n",
       "      <td>0</td>\n",
       "      <td>2020-01-21</td>\n",
       "      <td>Washington</td>\n",
       "      <td>53</td>\n",
       "      <td>1</td>\n",
       "      <td>0</td>\n",
       "      <td>0.0</td>\n",
       "      <td>NaN</td>\n",
       "    </tr>\n",
       "    <tr>\n",
       "      <td>1</td>\n",
       "      <td>2020-01-22</td>\n",
       "      <td>Washington</td>\n",
       "      <td>53</td>\n",
       "      <td>1</td>\n",
       "      <td>0</td>\n",
       "      <td>0.0</td>\n",
       "      <td>0.0</td>\n",
       "    </tr>\n",
       "    <tr>\n",
       "      <td>2</td>\n",
       "      <td>2020-01-23</td>\n",
       "      <td>Washington</td>\n",
       "      <td>53</td>\n",
       "      <td>1</td>\n",
       "      <td>0</td>\n",
       "      <td>0.0</td>\n",
       "      <td>0.0</td>\n",
       "    </tr>\n",
       "    <tr>\n",
       "      <td>3</td>\n",
       "      <td>2020-01-24</td>\n",
       "      <td>Illinois</td>\n",
       "      <td>17</td>\n",
       "      <td>1</td>\n",
       "      <td>0</td>\n",
       "      <td>0.0</td>\n",
       "      <td>NaN</td>\n",
       "    </tr>\n",
       "    <tr>\n",
       "      <td>4</td>\n",
       "      <td>2020-01-24</td>\n",
       "      <td>Washington</td>\n",
       "      <td>53</td>\n",
       "      <td>1</td>\n",
       "      <td>0</td>\n",
       "      <td>0.0</td>\n",
       "      <td>0.0</td>\n",
       "    </tr>\n",
       "  </tbody>\n",
       "</table>\n",
       "</div>"
      ],
      "text/plain": [
       "        date       state  fips  cases  deaths  percent_change  change_in_cases\n",
       "0 2020-01-21  Washington    53      1       0             0.0              NaN\n",
       "1 2020-01-22  Washington    53      1       0             0.0              0.0\n",
       "2 2020-01-23  Washington    53      1       0             0.0              0.0\n",
       "3 2020-01-24    Illinois    17      1       0             0.0              NaN\n",
       "4 2020-01-24  Washington    53      1       0             0.0              0.0"
      ]
     },
     "execution_count": 13,
     "metadata": {},
     "output_type": "execute_result"
    }
   ],
   "source": [
    "# Looks good\n",
    "total_us_data.head()"
   ]
  },
  {
   "cell_type": "code",
   "execution_count": null,
   "metadata": {},
   "outputs": [],
   "source": []
  },
  {
   "cell_type": "markdown",
   "metadata": {},
   "source": [
    "### Separating the Data by State"
   ]
  },
  {
   "cell_type": "code",
   "execution_count": null,
   "metadata": {},
   "outputs": [],
   "source": []
  },
  {
   "cell_type": "code",
   "execution_count": 14,
   "metadata": {},
   "outputs": [],
   "source": [
    "# Let's make a funciton to seperate these\n",
    "def state_info(state):\n",
    "    data = total_us_data[total_us_data.state == state]\n",
    "    data.date = pd.to_datetime(data.date)\n",
    "    data = data.set_index(data.date)\n",
    "#     data['percent_change'] = data.cases.pct_change()\n",
    "#     data.percent_change.fillna(0, inplace=True)\n",
    "    return data.drop(labels='date', axis=1)"
   ]
  },
  {
   "cell_type": "code",
   "execution_count": 15,
   "metadata": {},
   "outputs": [
    {
     "name": "stderr",
     "output_type": "stream",
     "text": [
      "C:\\Users\\nolan\\AppData\\Roaming\\Python\\Python37\\site-packages\\pandas\\core\\generic.py:5208: SettingWithCopyWarning: \n",
      "A value is trying to be set on a copy of a slice from a DataFrame.\n",
      "Try using .loc[row_indexer,col_indexer] = value instead\n",
      "\n",
      "See the caveats in the documentation: http://pandas.pydata.org/pandas-docs/stable/user_guide/indexing.html#returning-a-view-versus-a-copy\n",
      "  self[name] = value\n"
     ]
    },
    {
     "data": {
      "text/html": [
       "<div>\n",
       "<style scoped>\n",
       "    .dataframe tbody tr th:only-of-type {\n",
       "        vertical-align: middle;\n",
       "    }\n",
       "\n",
       "    .dataframe tbody tr th {\n",
       "        vertical-align: top;\n",
       "    }\n",
       "\n",
       "    .dataframe thead th {\n",
       "        text-align: right;\n",
       "    }\n",
       "</style>\n",
       "<table border=\"1\" class=\"dataframe\">\n",
       "  <thead>\n",
       "    <tr style=\"text-align: right;\">\n",
       "      <th></th>\n",
       "      <th>state</th>\n",
       "      <th>fips</th>\n",
       "      <th>cases</th>\n",
       "      <th>deaths</th>\n",
       "      <th>percent_change</th>\n",
       "      <th>change_in_cases</th>\n",
       "    </tr>\n",
       "    <tr>\n",
       "      <th>date</th>\n",
       "      <th></th>\n",
       "      <th></th>\n",
       "      <th></th>\n",
       "      <th></th>\n",
       "      <th></th>\n",
       "      <th></th>\n",
       "    </tr>\n",
       "  </thead>\n",
       "  <tbody>\n",
       "    <tr>\n",
       "      <td>2020-03-28</td>\n",
       "      <td>Northern Mariana Islands</td>\n",
       "      <td>69</td>\n",
       "      <td>2</td>\n",
       "      <td>0</td>\n",
       "      <td>0.0</td>\n",
       "      <td>NaN</td>\n",
       "    </tr>\n",
       "    <tr>\n",
       "      <td>2020-03-29</td>\n",
       "      <td>Northern Mariana Islands</td>\n",
       "      <td>69</td>\n",
       "      <td>2</td>\n",
       "      <td>0</td>\n",
       "      <td>0.0</td>\n",
       "      <td>0.0</td>\n",
       "    </tr>\n",
       "    <tr>\n",
       "      <td>2020-03-30</td>\n",
       "      <td>Northern Mariana Islands</td>\n",
       "      <td>69</td>\n",
       "      <td>2</td>\n",
       "      <td>0</td>\n",
       "      <td>0.0</td>\n",
       "      <td>0.0</td>\n",
       "    </tr>\n",
       "    <tr>\n",
       "      <td>2020-03-31</td>\n",
       "      <td>Northern Mariana Islands</td>\n",
       "      <td>69</td>\n",
       "      <td>2</td>\n",
       "      <td>0</td>\n",
       "      <td>0.0</td>\n",
       "      <td>0.0</td>\n",
       "    </tr>\n",
       "    <tr>\n",
       "      <td>2020-04-01</td>\n",
       "      <td>Northern Mariana Islands</td>\n",
       "      <td>69</td>\n",
       "      <td>6</td>\n",
       "      <td>1</td>\n",
       "      <td>2.0</td>\n",
       "      <td>4.0</td>\n",
       "    </tr>\n",
       "  </tbody>\n",
       "</table>\n",
       "</div>"
      ],
      "text/plain": [
       "                               state  fips  cases  deaths  percent_change  \\\n",
       "date                                                                        \n",
       "2020-03-28  Northern Mariana Islands    69      2       0             0.0   \n",
       "2020-03-29  Northern Mariana Islands    69      2       0             0.0   \n",
       "2020-03-30  Northern Mariana Islands    69      2       0             0.0   \n",
       "2020-03-31  Northern Mariana Islands    69      2       0             0.0   \n",
       "2020-04-01  Northern Mariana Islands    69      6       1             2.0   \n",
       "\n",
       "            change_in_cases  \n",
       "date                         \n",
       "2020-03-28              NaN  \n",
       "2020-03-29              0.0  \n",
       "2020-03-30              0.0  \n",
       "2020-03-31              0.0  \n",
       "2020-04-01              4.0  "
      ]
     },
     "execution_count": 15,
     "metadata": {},
     "output_type": "execute_result"
    }
   ],
   "source": [
    "# Function Test\n",
    "state_info('Northern Mariana Islands').head()"
   ]
  },
  {
   "cell_type": "code",
   "execution_count": null,
   "metadata": {},
   "outputs": [],
   "source": []
  },
  {
   "cell_type": "code",
   "execution_count": 16,
   "metadata": {},
   "outputs": [],
   "source": [
    "# Don't know how to make a function to do this, so here we go\n",
    "washington_data = state_info(total_us_data.state.unique()[0])\n",
    "illinois_data = state_info(total_us_data.state.unique()[1])\n",
    "california_data = state_info(total_us_data.state.unique()[2])\n",
    "arizona_data = state_info(total_us_data.state.unique()[3])\n",
    "massachusetts_data = state_info(total_us_data.state.unique()[4])\n",
    "wisconsin_data = state_info(total_us_data.state.unique()[5])\n",
    "texas_data = state_info(total_us_data.state.unique()[6])\n",
    "nebraska_data = state_info(total_us_data.state.unique()[7])\n",
    "utah_data = state_info(total_us_data.state.unique()[8])\n",
    "oregon_data = state_info(total_us_data.state.unique()[9])\n",
    "florida_data = state_info(total_us_data.state.unique()[10])\n",
    "new_york_data = state_info(total_us_data.state.unique()[11])\n",
    "rhode_island_data = state_info(total_us_data.state.unique()[12])\n",
    "georgia_data = state_info(total_us_data.state.unique()[13])\n",
    "new_hampshire_data = state_info(total_us_data.state.unique()[14])\n",
    "north_carolina_data = state_info(total_us_data.state.unique()[15])\n",
    "new_jersey_data = state_info(total_us_data.state.unique()[16])\n",
    "colorado_data = state_info(total_us_data.state.unique()[17])\n",
    "maryland_data = state_info(total_us_data.state.unique()[18])\n",
    "nevada_data = state_info(total_us_data.state.unique()[19])\n",
    "tennessee_data = state_info(total_us_data.state.unique()[20])\n",
    "hawaii_data = state_info(total_us_data.state.unique()[21])\n",
    "indiana_data = state_info(total_us_data.state.unique()[22])\n",
    "kentucky_data = state_info(total_us_data.state.unique()[23])\n",
    "minnesota_data = state_info(total_us_data.state.unique()[24])\n",
    "oklahoma_data = state_info(total_us_data.state.unique()[25])\n",
    "pennsylvania_data = state_info(total_us_data.state.unique()[26])\n",
    "south_carolina_data = state_info(total_us_data.state.unique()[27])\n",
    "dc_data = state_info(total_us_data.state.unique()[28])\n",
    "kansas_data = state_info(total_us_data.state.unique()[29])\n",
    "missouri_data = state_info(total_us_data.state.unique()[30])\n",
    "vermont_data = state_info(total_us_data.state.unique()[31])\n",
    "virginia_data = state_info(total_us_data.state.unique()[32])\n",
    "connecticut_data = state_info(total_us_data.state.unique()[33])\n",
    "iowa_data = state_info(total_us_data.state.unique()[34])\n",
    "louisiana_data = state_info(total_us_data.state.unique()[35])\n",
    "ohio_data = state_info(total_us_data.state.unique()[36])\n",
    "michigan_data = state_info(total_us_data.state.unique()[37])\n",
    "south_dakota_data = state_info(total_us_data.state.unique()[38])\n",
    "arkansas_data = state_info(total_us_data.state.unique()[39])\n",
    "delaware_data = state_info(total_us_data.state.unique()[40])\n",
    "mississippi_data = state_info(total_us_data.state.unique()[41])\n",
    "new_mexico_data = state_info(total_us_data.state.unique()[42])\n",
    "north_dakota_data = state_info(total_us_data.state.unique()[43])\n",
    "wyoming_data = state_info(total_us_data.state.unique()[44])\n",
    "alaska_data = state_info(total_us_data.state.unique()[45])\n",
    "maine_data = state_info(total_us_data.state.unique()[46])\n",
    "alabama_data = state_info(total_us_data.state.unique()[47])\n",
    "idaho_data = state_info(total_us_data.state.unique()[48])\n",
    "montana_data = state_info(total_us_data.state.unique()[49])\n",
    "puerto_rico_data = state_info(total_us_data.state.unique()[50])\n",
    "virgin_islands_data = state_info(total_us_data.state.unique()[51])\n",
    "guam_data = state_info(total_us_data.state.unique()[52])\n",
    "west_virginia_data = state_info(total_us_data.state.unique()[53])\n",
    "north_mariana_islands_data = state_info(total_us_data.state.unique()[54])\n",
    "american_samoa_data = state_info(total_us_data.state.unique()[55])"
   ]
  },
  {
   "cell_type": "code",
   "execution_count": null,
   "metadata": {},
   "outputs": [],
   "source": []
  },
  {
   "cell_type": "code",
   "execution_count": 17,
   "metadata": {},
   "outputs": [
    {
     "data": {
      "text/html": [
       "<div>\n",
       "<style scoped>\n",
       "    .dataframe tbody tr th:only-of-type {\n",
       "        vertical-align: middle;\n",
       "    }\n",
       "\n",
       "    .dataframe tbody tr th {\n",
       "        vertical-align: top;\n",
       "    }\n",
       "\n",
       "    .dataframe thead th {\n",
       "        text-align: right;\n",
       "    }\n",
       "</style>\n",
       "<table border=\"1\" class=\"dataframe\">\n",
       "  <thead>\n",
       "    <tr style=\"text-align: right;\">\n",
       "      <th></th>\n",
       "      <th>state</th>\n",
       "      <th>fips</th>\n",
       "      <th>cases</th>\n",
       "      <th>deaths</th>\n",
       "      <th>percent_change</th>\n",
       "      <th>change_in_cases</th>\n",
       "    </tr>\n",
       "    <tr>\n",
       "      <th>date</th>\n",
       "      <th></th>\n",
       "      <th></th>\n",
       "      <th></th>\n",
       "      <th></th>\n",
       "      <th></th>\n",
       "      <th></th>\n",
       "    </tr>\n",
       "  </thead>\n",
       "  <tbody>\n",
       "    <tr>\n",
       "      <td>2020-04-18</td>\n",
       "      <td>Ohio</td>\n",
       "      <td>39</td>\n",
       "      <td>10222</td>\n",
       "      <td>451</td>\n",
       "      <td>0.122433</td>\n",
       "      <td>1115.0</td>\n",
       "    </tr>\n",
       "    <tr>\n",
       "      <td>2020-04-19</td>\n",
       "      <td>Ohio</td>\n",
       "      <td>39</td>\n",
       "      <td>11602</td>\n",
       "      <td>471</td>\n",
       "      <td>0.135003</td>\n",
       "      <td>1380.0</td>\n",
       "    </tr>\n",
       "    <tr>\n",
       "      <td>2020-04-20</td>\n",
       "      <td>Ohio</td>\n",
       "      <td>39</td>\n",
       "      <td>12919</td>\n",
       "      <td>509</td>\n",
       "      <td>0.113515</td>\n",
       "      <td>1317.0</td>\n",
       "    </tr>\n",
       "    <tr>\n",
       "      <td>2020-04-21</td>\n",
       "      <td>Ohio</td>\n",
       "      <td>39</td>\n",
       "      <td>13725</td>\n",
       "      <td>557</td>\n",
       "      <td>0.062389</td>\n",
       "      <td>806.0</td>\n",
       "    </tr>\n",
       "    <tr>\n",
       "      <td>2020-04-22</td>\n",
       "      <td>Ohio</td>\n",
       "      <td>39</td>\n",
       "      <td>14117</td>\n",
       "      <td>610</td>\n",
       "      <td>0.028561</td>\n",
       "      <td>392.0</td>\n",
       "    </tr>\n",
       "  </tbody>\n",
       "</table>\n",
       "</div>"
      ],
      "text/plain": [
       "           state  fips  cases  deaths  percent_change  change_in_cases\n",
       "date                                                                  \n",
       "2020-04-18  Ohio    39  10222     451        0.122433           1115.0\n",
       "2020-04-19  Ohio    39  11602     471        0.135003           1380.0\n",
       "2020-04-20  Ohio    39  12919     509        0.113515           1317.0\n",
       "2020-04-21  Ohio    39  13725     557        0.062389            806.0\n",
       "2020-04-22  Ohio    39  14117     610        0.028561            392.0"
      ]
     },
     "execution_count": 17,
     "metadata": {},
     "output_type": "execute_result"
    }
   ],
   "source": [
    "ohio_data.tail()"
   ]
  },
  {
   "cell_type": "code",
   "execution_count": null,
   "metadata": {},
   "outputs": [],
   "source": []
  },
  {
   "cell_type": "code",
   "execution_count": null,
   "metadata": {},
   "outputs": [],
   "source": []
  },
  {
   "cell_type": "markdown",
   "metadata": {},
   "source": [
    "# Rushing These Out for the Blog Post, But Will Update Them or Make More"
   ]
  },
  {
   "cell_type": "code",
   "execution_count": null,
   "metadata": {},
   "outputs": [],
   "source": []
  },
  {
   "cell_type": "markdown",
   "metadata": {},
   "source": [
    "### Ohio"
   ]
  },
  {
   "cell_type": "code",
   "execution_count": 52,
   "metadata": {},
   "outputs": [
    {
     "data": {
      "image/png": "[encoded data removed]",
      "text/plain": [
       "<Figure size 1152x576 with 1 Axes>"
      ]
     },
     "metadata": {
      "needs_background": "light"
     },
     "output_type": "display_data"
    }
   ],
   "source": [
    "plt.figure(figsize=(16,8))\n",
    "plt.title(\"Ohio's Spike Peaked 7 Days After Easter Sunday\", size=27)\n",
    "\n",
    "plt.xlabel('Date', size=24)\n",
    "plt.ylabel('Change in Cases', size=24)\n",
    "\n",
    "plt.text(x=dt.date(2020, 4, 18), y=ohio_data.change_in_cases[dt.date(2020, 4, 19)]+25, s=f'{int(ohio_data.change_in_cases[dt.date(2020, 4, 19)])}', fontsize=18)\n",
    "plt.text(x=dt.date(2020, 4, 13), y=ohio_data.change_in_cases[dt.date(2020, 4, 14)]-50, s=f'{int(ohio_data.change_in_cases[dt.date(2020, 4, 14)])}', fontsize=18)\n",
    "plt.text(x=dt.date(2020, 4, 21), y=ohio_data.change_in_cases[dt.date(2020, 4, 22)]-50, s=f'{int(ohio_data.change_in_cases[dt.date(2020, 4, 22)])}', fontsize=18)\n",
    "\n",
    "plt.vlines(x=dt.date(2020, 4, 12), ymin=0, ymax=1400, linestyles='solid', color='gold', label='Easter Sunday')\n",
    "plt.vlines(x=dt.date(2020, 4, 19), ymin=0, ymax=1400, linestyle='dashdot', color='gold', label='One Week After Easter')\n",
    "\n",
    "plt.plot(ohio_data.change_in_cases)\n",
    "\n",
    "plt.legend(loc='upper left');"
   ]
  },
  {
   "cell_type": "code",
   "execution_count": 41,
   "metadata": {},
   "outputs": [
    {
     "data": {
      "text/html": [
       "<div>\n",
       "<style scoped>\n",
       "    .dataframe tbody tr th:only-of-type {\n",
       "        vertical-align: middle;\n",
       "    }\n",
       "\n",
       "    .dataframe tbody tr th {\n",
       "        vertical-align: top;\n",
       "    }\n",
       "\n",
       "    .dataframe thead th {\n",
       "        text-align: right;\n",
       "    }\n",
       "</style>\n",
       "<table border=\"1\" class=\"dataframe\">\n",
       "  <thead>\n",
       "    <tr style=\"text-align: right;\">\n",
       "      <th></th>\n",
       "      <th>state</th>\n",
       "      <th>fips</th>\n",
       "      <th>cases</th>\n",
       "      <th>deaths</th>\n",
       "      <th>percent_change</th>\n",
       "      <th>change_in_cases</th>\n",
       "    </tr>\n",
       "    <tr>\n",
       "      <th>date</th>\n",
       "      <th></th>\n",
       "      <th></th>\n",
       "      <th></th>\n",
       "      <th></th>\n",
       "      <th></th>\n",
       "      <th></th>\n",
       "    </tr>\n",
       "  </thead>\n",
       "  <tbody>\n",
       "    <tr>\n",
       "      <td>2020-04-13</td>\n",
       "      <td>Ohio</td>\n",
       "      <td>39</td>\n",
       "      <td>6975</td>\n",
       "      <td>274</td>\n",
       "      <td>0.056178</td>\n",
       "      <td>371.0</td>\n",
       "    </tr>\n",
       "    <tr>\n",
       "      <td>2020-04-14</td>\n",
       "      <td>Ohio</td>\n",
       "      <td>39</td>\n",
       "      <td>7280</td>\n",
       "      <td>324</td>\n",
       "      <td>0.043728</td>\n",
       "      <td>305.0</td>\n",
       "    </tr>\n",
       "    <tr>\n",
       "      <td>2020-04-15</td>\n",
       "      <td>Ohio</td>\n",
       "      <td>39</td>\n",
       "      <td>7791</td>\n",
       "      <td>361</td>\n",
       "      <td>0.070192</td>\n",
       "      <td>511.0</td>\n",
       "    </tr>\n",
       "    <tr>\n",
       "      <td>2020-04-16</td>\n",
       "      <td>Ohio</td>\n",
       "      <td>39</td>\n",
       "      <td>8414</td>\n",
       "      <td>389</td>\n",
       "      <td>0.079964</td>\n",
       "      <td>623.0</td>\n",
       "    </tr>\n",
       "    <tr>\n",
       "      <td>2020-04-17</td>\n",
       "      <td>Ohio</td>\n",
       "      <td>39</td>\n",
       "      <td>9107</td>\n",
       "      <td>418</td>\n",
       "      <td>0.082363</td>\n",
       "      <td>693.0</td>\n",
       "    </tr>\n",
       "    <tr>\n",
       "      <td>2020-04-18</td>\n",
       "      <td>Ohio</td>\n",
       "      <td>39</td>\n",
       "      <td>10222</td>\n",
       "      <td>451</td>\n",
       "      <td>0.122433</td>\n",
       "      <td>1115.0</td>\n",
       "    </tr>\n",
       "    <tr>\n",
       "      <td>2020-04-19</td>\n",
       "      <td>Ohio</td>\n",
       "      <td>39</td>\n",
       "      <td>11602</td>\n",
       "      <td>471</td>\n",
       "      <td>0.135003</td>\n",
       "      <td>1380.0</td>\n",
       "    </tr>\n",
       "    <tr>\n",
       "      <td>2020-04-20</td>\n",
       "      <td>Ohio</td>\n",
       "      <td>39</td>\n",
       "      <td>12919</td>\n",
       "      <td>509</td>\n",
       "      <td>0.113515</td>\n",
       "      <td>1317.0</td>\n",
       "    </tr>\n",
       "    <tr>\n",
       "      <td>2020-04-21</td>\n",
       "      <td>Ohio</td>\n",
       "      <td>39</td>\n",
       "      <td>13725</td>\n",
       "      <td>557</td>\n",
       "      <td>0.062389</td>\n",
       "      <td>806.0</td>\n",
       "    </tr>\n",
       "    <tr>\n",
       "      <td>2020-04-22</td>\n",
       "      <td>Ohio</td>\n",
       "      <td>39</td>\n",
       "      <td>14117</td>\n",
       "      <td>610</td>\n",
       "      <td>0.028561</td>\n",
       "      <td>392.0</td>\n",
       "    </tr>\n",
       "  </tbody>\n",
       "</table>\n",
       "</div>"
      ],
      "text/plain": [
       "           state  fips  cases  deaths  percent_change  change_in_cases\n",
       "date                                                                  \n",
       "2020-04-13  Ohio    39   6975     274        0.056178            371.0\n",
       "2020-04-14  Ohio    39   7280     324        0.043728            305.0\n",
       "2020-04-15  Ohio    39   7791     361        0.070192            511.0\n",
       "2020-04-16  Ohio    39   8414     389        0.079964            623.0\n",
       "2020-04-17  Ohio    39   9107     418        0.082363            693.0\n",
       "2020-04-18  Ohio    39  10222     451        0.122433           1115.0\n",
       "2020-04-19  Ohio    39  11602     471        0.135003           1380.0\n",
       "2020-04-20  Ohio    39  12919     509        0.113515           1317.0\n",
       "2020-04-21  Ohio    39  13725     557        0.062389            806.0\n",
       "2020-04-22  Ohio    39  14117     610        0.028561            392.0"
      ]
     },
     "execution_count": 41,
     "metadata": {},
     "output_type": "execute_result"
    }
   ],
   "source": [
    "ohio_data.tail(10)"
   ]
  },
  {
   "cell_type": "code",
   "execution_count": null,
   "metadata": {},
   "outputs": [],
   "source": []
  },
  {
   "cell_type": "markdown",
   "metadata": {},
   "source": [
    "### Iowa"
   ]
  },
  {
   "cell_type": "code",
   "execution_count": 65,
   "metadata": {},
   "outputs": [
    {
     "data": {
      "image/png": "[encoded data removed]",
      "text/plain": [
       "<Figure size 1152x576 with 1 Axes>"
      ]
     },
     "metadata": {
      "needs_background": "light"
     },
     "output_type": "display_data"
    }
   ],
   "source": [
    "plt.figure(figsize=(16,8))\n",
    "plt.title(\"Iowa's Spike is Smaller, but Tells the Same Story\", size=27)\n",
    "\n",
    "plt.xlabel('Date', size=24)\n",
    "plt.ylabel('Change in Cases', size=24)\n",
    "\n",
    "plt.text(x=dt.date(2020, 4, 20), y=iowa_data.change_in_cases[dt.date(2020, 4, 21)]+15, s=f'{int(iowa_data.change_in_cases[dt.date(2020, 4, 21)])}', fontsize=18)\n",
    "plt.text(x=dt.date(2020, 4, 11), y=iowa_data.change_in_cases[dt.date(2020, 4, 12)]-25, s=f'{int(iowa_data.change_in_cases[dt.date(2020, 4, 12)])}', fontsize=18)\n",
    "plt.text(x=dt.date(2020, 4, 21), y=iowa_data.change_in_cases[dt.date(2020, 4, 22)]-25, s=f'{int(iowa_data.change_in_cases[dt.date(2020, 4, 22)])}', fontsize=18)\n",
    "\n",
    "plt.vlines(x=dt.date(2020, 4, 12), ymin=0, ymax=500, linestyles='solid', color='gold', label='Easter Sunday')\n",
    "plt.vlines(x=dt.date(2020, 4, 19), ymin=0, ymax=500, linestyle='dashdot', color='gold', label='One Week After Easter')\n",
    "\n",
    "plt.plot(iowa_data.change_in_cases)\n",
    "\n",
    "plt.legend(loc='upper left');"
   ]
  },
  {
   "cell_type": "code",
   "execution_count": null,
   "metadata": {},
   "outputs": [],
   "source": []
  },
  {
   "cell_type": "markdown",
   "metadata": {},
   "source": [
    "### Mississippi"
   ]
  },
  {
   "cell_type": "code",
   "execution_count": 67,
   "metadata": {},
   "outputs": [
    {
     "data": {
      "image/png": "[encoded data removed]",
      "text/plain": [
       "<Figure size 1152x576 with 1 Axes>"
      ]
     },
     "metadata": {
      "needs_background": "light"
     },
     "output_type": "display_data"
    }
   ],
   "source": [
    "plt.figure(figsize=(16,8))\n",
    "plt.title(\"Alabama \", size=27)\n",
    "\n",
    "plt.xlabel('Date', size=24)\n",
    "plt.ylabel('Change in Cases', size=24)\n",
    "\n",
    "# plt.text(x=dt.date(2020, 4, 20), y=iowa_data.change_in_cases[dt.date(2020, 4, 21)]+15, s=f'{int(iowa_data.change_in_cases[dt.date(2020, 4, 21)])}', fontsize=18)\n",
    "# plt.text(x=dt.date(2020, 4, 11), y=iowa_data.change_in_cases[dt.date(2020, 4, 12)]-25, s=f'{int(iowa_data.change_in_cases[dt.date(2020, 4, 12)])}', fontsize=18)\n",
    "# plt.text(x=dt.date(2020, 4, 21), y=iowa_data.change_in_cases[dt.date(2020, 4, 22)]-25, s=f'{int(iowa_data.change_in_cases[dt.date(2020, 4, 22)])}', fontsize=18)\n",
    "\n",
    "plt.vlines(x=dt.date(2020, 4, 12), ymin=0, ymax=500, linestyles='solid', color='gold', label='Easter Sunday')\n",
    "plt.vlines(x=dt.date(2020, 4, 19), ymin=0, ymax=500, linestyle='dashdot', color='gold', label='One Week After Easter')\n",
    "\n",
    "plt.plot(alabama_data.change_in_cases)\n",
    "\n",
    "plt.legend(loc='upper left');"
   ]
  },
  {
   "cell_type": "code",
   "execution_count": null,
   "metadata": {},
   "outputs": [],
   "source": []
  },
  {
   "cell_type": "code",
   "execution_count": null,
   "metadata": {},
   "outputs": [],
   "source": []
  },
  {
   "cell_type": "code",
   "execution_count": null,
   "metadata": {},
   "outputs": [],
   "source": []
  },
  {
   "cell_type": "code",
   "execution_count": null,
   "metadata": {},
   "outputs": [],
   "source": []
  },
  {
   "cell_type": "code",
   "execution_count": null,
   "metadata": {},
   "outputs": [],
   "source": []
  },
  {
   "cell_type": "code",
   "execution_count": null,
   "metadata": {},
   "outputs": [],
   "source": []
  },
  {
   "cell_type": "code",
   "execution_count": null,
   "metadata": {},
   "outputs": [],
   "source": []
  },
  {
   "cell_type": "code",
   "execution_count": null,
   "metadata": {},
   "outputs": [],
   "source": []
  },
  {
   "cell_type": "code",
   "execution_count": null,
   "metadata": {},
   "outputs": [],
   "source": []
  },
  {
   "cell_type": "code",
   "execution_count": null,
   "metadata": {},
   "outputs": [],
   "source": []
  },
  {
   "cell_type": "code",
   "execution_count": null,
   "metadata": {},
   "outputs": [],
   "source": []
  }
 ],
 "metadata": {
  "kernelspec": {
   "display_name": "Python 3",
   "language": "python",
   "name": "python3"
  },
  "language_info": {
   "codemirror_mode": {
    "name": "ipython",
    "version": 3
   },
   "file_extension": ".py",
   "mimetype": "text/x-python",
   "name": "python",
   "nbconvert_exporter": "python",
   "pygments_lexer": "ipython3",
   "version": "3.7.3"
  }
 },
 "nbformat": 4,
 "nbformat_minor": 2
}
