{
 "cells": [
  {
   "cell_type": "code",
   "execution_count": 22,
   "metadata": {},
   "outputs": [],
   "source": [
    "import pandas as pd\n",
    "import datetime as dt\n",
    "import numpy as np"
   ]
  },
  {
   "cell_type": "code",
   "execution_count": 106,
   "metadata": {},
   "outputs": [],
   "source": [
    "data = [\n",
    "    ['Washington', dt.date(2020, 2, 29), dt.date(2020, 3, 23)],\n",
    "    ['Illinois', dt.date(2020, 3, 9), dt.date(2020, 3, 31)],\n",
    "    ['California', dt.date(2020, 3, 4), dt.date(2020, 3, 19)],\n",
    "    ['Arizona', dt.date(2020, 3, 11), dt.date(2020, 3, 31)],\n",
    "    ['Massachusetts', dt.date(2020, 3, 10), dt.date(2020, 3, 24)],\n",
    "    ['Wisconsin', dt.date(2020, 3, 12), dt.date(2020, 3, 24)],\n",
    "    ['Texas', dt.date(2020, 3, 13), dt.date(2020, 3, 31)],\n",
    "    ['Nebraska', dt.date(2020, 3, 13), np.nan],\n",
    "    ['Utah', dt.date(2020, 3, 13), np.nan],\n",
    "    ['Oregon', dt.date(2020, 3, 8), dt.date(2020, 3, 23)],\n",
    "    ['Florida', dt.date(2020, 3, 11), dt.date(2020, 4, 2)],\n",
    "    ['New York', dt.date(2020, 3, 7), dt.date(2020, 3, 20)],\n",
    "    ['Rhode Island', dt.date(2020, 3, 10), dt.date(2020, 3, 28)],\n",
    "    ['Georgia', dt.date(2020, 3, 16), dt.date(2020, 4, 2)],\n",
    "    ['New Hampshire', dt.date(2020, 3, 13), dt.date(2020, 3, 26)],\n",
    "    ['North Carolina', dt.date(2020, 3, 10), dt.date(2020, 3, 30)],\n",
    "    ['New Jersey', dt.date(2020, 3, 9), dt.date(2020, 3, 24)],\n",
    "    ['Colorado', dt.date(2020, 3, 11), dt.date(2020, 3, 26)],\n",
    "    ['Maryland', dt.date(2020, 3, 5), dt.date(2020, 3, 30)],\n",
    "    ['Nevada', dt.date(2020, 3, 13), dt.date(2020, 3, 31)],\n",
    "    ['Tennessee', dt.date(2020, 3, 12), dt.date(2020, 4, 2)],\n",
    "    ['Hawaii', dt.date(2020, 3, 16), dt.date(2020, 3, 25)],\n",
    "    ['Indiana', dt.date(2020, 3, 6), dt.date(2020, 3, 17)],\n",
    "    ['Kentucky', dt.date(2020, 3, 6), dt.date(2020, 3, 25)],\n",
    "    ['Minnesota', dt.date(2020, 3, 13), dt.date(2020, 3, 25)],\n",
    "    ['Oklahoma', dt.date(2020, 3, 15), dt.date(2020, 3, 24)],\n",
    "    ['Pennsylvania', dt.date(2020, 3, 6), dt.date(2020, 3, 23)],\n",
    "    ['South Carolina', dt.date(2020, 3, 13), dt.date(2020, 3, 13)],\n",
    "    ['District of Columbia', dt.date(2020, 3, 11), dt.date(2020, 3, 30)],\n",
    "    ['Kansas', dt.date(2020, 3, 12), dt.date(2020, 3, 28)],\n",
    "    ['Missouri', dt.date(2020, 3, 13), dt.date(2020, 4, 6)],\n",
    "    ['Vermont', dt.date(2020, 3, 14), dt.date(2020, 3, 24)],\n",
    "    ['Virginia', dt.date(2020, 3, 12), dt.date(2020, 3, 23)],\n",
    "    ['Connecticut', dt.date(2020, 3, 13), dt.date(2020, 3, 22)],\n",
    "    ['Iowa', dt.date(2020, 3, 17), np.nan],\n",
    "    ['Louisiana', dt.date(2020, 3, 11), dt.date(2020, 3, 23)],\n",
    "    ['Ohio', dt.date(2020, 3, 9), dt.date(2020, 3, 23)],\n",
    "    ['Michigan', dt.date(2020, 3, 10), dt.date(2020, 3, 24)],\n",
    "    ['South Dakota', dt.date(2020, 3, 13), np.nan],\n",
    "    ['Arkansas', dt.date(2020, 3, 11), np.nan],\n",
    "    ['Delaware', dt.date(2020, 3, 12), dt.date(2020, 3, 24)],\n",
    "    ['Mississippi', dt.date(2020, 3, 14), dt.date(2020, 4, 1)],\n",
    "    ['New Mexico', dt.date(2020, 3, 11), dt.date(2020, 3, 23)]\n",
    "]"
   ]
  },
  {
   "cell_type": "code",
   "execution_count": null,
   "metadata": {},
   "outputs": [],
   "source": []
  },
  {
   "cell_type": "code",
   "execution_count": null,
   "metadata": {},
   "outputs": [],
   "source": []
  },
  {
   "cell_type": "code",
   "execution_count": 107,
   "metadata": {},
   "outputs": [],
   "source": [
    "# We'll Start by Making the DataFrame\n",
    "state_actions = pd.DataFrame(data, columns=['state', 'state_of_emergency', 'stay_at_home'])\n",
    "state_actions = state_actions.set_index('state')"
   ]
  },
  {
   "cell_type": "code",
   "execution_count": null,
   "metadata": {},
   "outputs": [],
   "source": []
  },
  {
   "cell_type": "code",
   "execution_count": 108,
   "metadata": {},
   "outputs": [],
   "source": [
    "# I want to try adding the fips code to the State Action DataFrame in case it helps\n",
    "fips_source = pd.read_csv('NYT-US-Data/us-states-2020-04-23.csv')\n",
    "fips_source = fips_source.fips.groupby(fips_source.state).mean()"
   ]
  },
  {
   "cell_type": "code",
   "execution_count": 109,
   "metadata": {},
   "outputs": [
    {
     "ename": "ValueError",
     "evalue": "Lengths must match to compare",
     "output_type": "error",
     "traceback": [
      "\u001b[1;31m---------------------------------------------------------------------------\u001b[0m",
      "\u001b[1;31mValueError\u001b[0m                                Traceback (most recent call last)",
      "\u001b[1;32m<ipython-input-109-4f38be427b84>\u001b[0m in \u001b[0;36m<module>\u001b[1;34m\u001b[0m\n\u001b[1;32m----> 1\u001b[1;33m \u001b[1;33m[\u001b[0m\u001b[0mfips_source\u001b[0m\u001b[1;33m.\u001b[0m\u001b[0mindex\u001b[0m \u001b[1;33m==\u001b[0m \u001b[0mstate_actions\u001b[0m\u001b[1;33m.\u001b[0m\u001b[0mindex\u001b[0m\u001b[1;33m]\u001b[0m\u001b[1;33m\u001b[0m\u001b[1;33m\u001b[0m\u001b[0m\n\u001b[0m",
      "\u001b[1;32m~\\AppData\\Roaming\\Python\\Python37\\site-packages\\pandas\\core\\indexes\\base.py\u001b[0m in \u001b[0;36mcmp_method\u001b[1;34m(self, other)\u001b[0m\n\u001b[0;32m    100\u001b[0m         \u001b[1;32mif\u001b[0m \u001b[0misinstance\u001b[0m\u001b[1;33m(\u001b[0m\u001b[0mother\u001b[0m\u001b[1;33m,\u001b[0m \u001b[1;33m(\u001b[0m\u001b[0mnp\u001b[0m\u001b[1;33m.\u001b[0m\u001b[0mndarray\u001b[0m\u001b[1;33m,\u001b[0m \u001b[0mIndex\u001b[0m\u001b[1;33m,\u001b[0m \u001b[0mABCSeries\u001b[0m\u001b[1;33m)\u001b[0m\u001b[1;33m)\u001b[0m\u001b[1;33m:\u001b[0m\u001b[1;33m\u001b[0m\u001b[1;33m\u001b[0m\u001b[0m\n\u001b[0;32m    101\u001b[0m             \u001b[1;32mif\u001b[0m \u001b[0mother\u001b[0m\u001b[1;33m.\u001b[0m\u001b[0mndim\u001b[0m \u001b[1;33m>\u001b[0m \u001b[1;36m0\u001b[0m \u001b[1;32mand\u001b[0m \u001b[0mlen\u001b[0m\u001b[1;33m(\u001b[0m\u001b[0mself\u001b[0m\u001b[1;33m)\u001b[0m \u001b[1;33m!=\u001b[0m \u001b[0mlen\u001b[0m\u001b[1;33m(\u001b[0m\u001b[0mother\u001b[0m\u001b[1;33m)\u001b[0m\u001b[1;33m:\u001b[0m\u001b[1;33m\u001b[0m\u001b[1;33m\u001b[0m\u001b[0m\n\u001b[1;32m--> 102\u001b[1;33m                 \u001b[1;32mraise\u001b[0m \u001b[0mValueError\u001b[0m\u001b[1;33m(\u001b[0m\u001b[1;34m\"Lengths must match to compare\"\u001b[0m\u001b[1;33m)\u001b[0m\u001b[1;33m\u001b[0m\u001b[1;33m\u001b[0m\u001b[0m\n\u001b[0m\u001b[0;32m    103\u001b[0m \u001b[1;33m\u001b[0m\u001b[0m\n\u001b[0;32m    104\u001b[0m         \u001b[1;32mif\u001b[0m \u001b[0mis_object_dtype\u001b[0m\u001b[1;33m(\u001b[0m\u001b[0mself\u001b[0m\u001b[1;33m)\u001b[0m \u001b[1;32mand\u001b[0m \u001b[1;32mnot\u001b[0m \u001b[0misinstance\u001b[0m\u001b[1;33m(\u001b[0m\u001b[0mself\u001b[0m\u001b[1;33m,\u001b[0m \u001b[0mABCMultiIndex\u001b[0m\u001b[1;33m)\u001b[0m\u001b[1;33m:\u001b[0m\u001b[1;33m\u001b[0m\u001b[1;33m\u001b[0m\u001b[0m\n",
      "\u001b[1;31mValueError\u001b[0m: Lengths must match to compare"
     ]
    }
   ],
   "source": [
    "[fips_source.index == state_actions.index]"
   ]
  },
  {
   "cell_type": "code",
   "execution_count": null,
   "metadata": {},
   "outputs": [],
   "source": []
  },
  {
   "cell_type": "code",
   "execution_count": null,
   "metadata": {},
   "outputs": [],
   "source": []
  },
  {
   "cell_type": "code",
   "execution_count": 84,
   "metadata": {},
   "outputs": [],
   "source": [
    "# And save it as a csv for other \n",
    "state_actions.to_csv('state_action.csv')"
   ]
  },
  {
   "cell_type": "code",
   "execution_count": null,
   "metadata": {},
   "outputs": [],
   "source": []
  }
 ],
 "metadata": {
  "kernelspec": {
   "display_name": "Python 3",
   "language": "python",
   "name": "python3"
  },
  "language_info": {
   "codemirror_mode": {
    "name": "ipython",
    "version": 3
   },
   "file_extension": ".py",
   "mimetype": "text/x-python",
   "name": "python",
   "nbconvert_exporter": "python",
   "pygments_lexer": "ipython3",
   "version": "3.7.3"
  }
 },
 "nbformat": 4,
 "nbformat_minor": 2
}
